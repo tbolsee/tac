{
 "cells": [
  {
   "cell_type": "markdown",
   "metadata": {},
   "source": [
    "# Extraction de Keywords"
   ]
  },
  {
   "cell_type": "markdown",
   "metadata": {},
   "source": [
    "## Imports"
   ]
  },
  {
   "cell_type": "code",
   "execution_count": 16,
   "metadata": {},
   "outputs": [],
   "source": [
    "import os\n",
    "import yake"
   ]
  },
  {
   "cell_type": "markdown",
   "metadata": {},
   "source": [
    "## Extraire les mots clés d'un document avec Yake"
   ]
  },
  {
   "cell_type": "markdown",
   "metadata": {},
   "source": [
    "https://github.com/LIAAD/yake"
   ]
  },
  {
   "cell_type": "code",
   "execution_count": 17,
   "metadata": {},
   "outputs": [
    {
     "data": {
      "text/plain": [
       "<yake.yake.KeywordExtractor at 0x1168c9710>"
      ]
     },
     "execution_count": 17,
     "metadata": {},
     "output_type": "execute_result"
    }
   ],
   "source": [
    "# Instantier l'extracteur de mots clés\n",
    "kw_extractor = yake.KeywordExtractor(lan=\"fr\", top=50)\n",
    "kw_extractor"
   ]
  },
  {
   "cell_type": "code",
   "execution_count": 18,
   "metadata": {},
   "outputs": [],
   "source": [
    "# Lister les Fichiers\n",
    "data_path = \"../data/txt/\"\n",
    "files = [f for f in os.listdir(data_path) if f.endswith('.txt') and f.startswith('KB_JB838_1960')]\n"
   ]
  },
  {
   "cell_type": "code",
   "execution_count": 19,
   "metadata": {},
   "outputs": [
    {
     "data": {
      "text/plain": [
       "100"
      ]
     },
     "execution_count": 19,
     "metadata": {},
     "output_type": "execute_result"
    }
   ],
   "source": [
    "# Imprimer le nombre de fichiers identifiés\n",
    "len(files)"
   ]
  },
  {
   "cell_type": "code",
   "execution_count": 20,
   "metadata": {},
   "outputs": [
    {
     "data": {
      "text/plain": [
       "['KB_JB838_1960-10-30_01-00007.txt',\n",
       " 'KB_JB838_1960-04-20_01-00016.txt',\n",
       " 'KB_JB838_1960-01-22_01-00015.txt',\n",
       " 'KB_JB838_1960-03-25_01-00020.txt',\n",
       " 'KB_JB838_1960-09-27_01-00009.txt',\n",
       " 'KB_JB838_1960-12-02_01-00004.txt',\n",
       " 'KB_JB838_1960-03-04_01-00010.txt',\n",
       " 'KB_JB838_1960-01-12_01-00011.txt',\n",
       " 'KB_JB838_1960-06-01_01-00011.txt',\n",
       " 'KB_JB838_1960-03-16_01-00007.txt']"
      ]
     },
     "execution_count": 20,
     "metadata": {},
     "output_type": "execute_result"
    }
   ],
   "source": [
    "# Les dix premiers fichiers\n",
    "files[:10]"
   ]
  },
  {
   "cell_type": "code",
   "execution_count": 21,
   "metadata": {},
   "outputs": [
    {
     "data": {
      "text/plain": [
       "'KB_JB838_1960-10-30_01-00007.txt'"
      ]
     },
     "execution_count": 21,
     "metadata": {},
     "output_type": "execute_result"
    }
   ],
   "source": [
    "# Choisir un fichier\n",
    "this_file = files[0]\n",
    "this_file"
   ]
  },
  {
   "cell_type": "code",
   "execution_count": 22,
   "metadata": {},
   "outputs": [
    {
     "data": {
      "text/plain": [
       "'t DIMANCHE 30 et LUNDI 31 OCTOBRE 1960 LE SOIR Evénement inattendu mais encourageant en football : double victoire belge sur les Belgique bat Hongrie: 2-1 Nos joueurs ont manœuvré avec autant d’habileté qu’à Stockholm, mais, cette fois, ils ont shooté Il y a auatre ans, 72.000 personnes sc pressaient au stade du Heysel pour assister au dernier Belgique - Hongrie. Cette foule bondit de joie « l’issue de la partie parce que les nôtres remportaient la victoire (5-4) Il est curieux de constater qu’e'"
      ]
     },
     "execution_count": 22,
     "metadata": {},
     "output_type": "execute_result"
    }
   ],
   "source": [
    "# Récupérer le texte du fichier\n",
    "text = open(os.path.join(data_path, this_file), 'r', encoding='utf-8').read()\n",
    "text[:500]"
   ]
  },
  {
   "cell_type": "code",
   "execution_count": 23,
   "metadata": {},
   "outputs": [
    {
     "data": {
      "text/plain": [
       "[('SOIR Evénement inattendu', 0.001439946218232747),\n",
       " ('SOIR Evénement', 0.005016137525527277),\n",
       " ('hongrois', 0.006721831616013241),\n",
       " ('but hongrois', 0.007775631192626479),\n",
       " ('but', 0.007930787288156412),\n",
       " ('Van Himst', 0.008223895020170385),\n",
       " ('jeu', 0.009313711982992662),\n",
       " ('match', 0.010008479989656193),\n",
       " ('belge', 0.010918886290466473),\n",
       " ('belges', 0.010918886290466473),\n",
       " ('but belge', 0.011650872916455139),\n",
       " ('fut', 0.012180598282675472),\n",
       " ('Belgique bat Hongrie', 0.016049234184904074),\n",
       " ('Belgique', 0.01610960154743106),\n",
       " ('double victoire belge', 0.01828089661276146),\n",
       " ('l’équipe belge', 0.018900951948485907),\n",
       " ('Evénement inattendu', 0.019929494137577764),\n",
       " ('Hongrie', 0.021522280488466664),\n",
       " ('but belge Cooromans', 0.023154180333290548),\n",
       " ('l’équipe', 0.023402077517990914),\n",
       " ('Jean Nicolay', 0.02412860553463023),\n",
       " ('Van', 0.025877588042943094),\n",
       " ('DIMANCHE', 0.026669500209353655),\n",
       " ('défenseurs hongrois', 0.026889035083344934),\n",
       " ('Diables rouges', 0.02708157814758765),\n",
       " ('C’est', 0.027745237877401945),\n",
       " ('fois', 0.027902637143118247),\n",
       " ('Nicolay', 0.02793979508807415),\n",
       " ('équipe', 0.028060576211605844),\n",
       " ('victoire', 0.02831330712311509),\n",
       " ('Lippens', 0.0286520034478407),\n",
       " ('Himst', 0.029589892935726565),\n",
       " ('partie', 0.02998668626974084),\n",
       " ('Stockholm', 0.03115384427782672),\n",
       " ('d’une équipe belge', 0.03184097507254652),\n",
       " ('balle', 0.032597410855397496),\n",
       " (\"l'équipe\", 0.03282244168022496),\n",
       " ('minute', 0.03302254271074146),\n",
       " ('c’est Jean Nicolay', 0.03434618404404483),\n",
       " ('Stockman', 0.03439812705486226),\n",
       " ('Lejeune', 0.03641973636194503),\n",
       " ('minutes', 0.03715036054958414),\n",
       " ('Verbiest', 0.03764070612405806),\n",
       " ('Liégeois', 0.03894208734215532),\n",
       " ('hongroise', 0.039117538215095976),\n",
       " ('Gorocs', 0.04050140877767377),\n",
       " ('défense', 0.04065389759138414),\n",
       " ('football', 0.04198563157974323),\n",
       " ('Jurion', 0.044507622481286306),\n",
       " ('Grosics', 0.04544842480825758)]"
      ]
     },
     "execution_count": 23,
     "metadata": {},
     "output_type": "execute_result"
    }
   ],
   "source": [
    "# Extraire les mots clés de ce texte\n",
    "keywords = kw_extractor.extract_keywords(text)\n",
    "keywords"
   ]
  },
  {
   "cell_type": "code",
   "execution_count": 24,
   "metadata": {},
   "outputs": [
    {
     "data": {
      "text/plain": [
       "['SOIR Evénement',\n",
       " 'but hongrois',\n",
       " 'Van Himst',\n",
       " 'but belge',\n",
       " 'l’équipe belge',\n",
       " 'Evénement inattendu',\n",
       " 'Jean Nicolay',\n",
       " 'défenseurs hongrois',\n",
       " 'Diables rouges']"
      ]
     },
     "execution_count": 24,
     "metadata": {},
     "output_type": "execute_result"
    }
   ],
   "source": [
    "# Ne garder que les bigrammes\n",
    "kept = []\n",
    "for kw, score in keywords:\n",
    "    words = kw.split()\n",
    "    if len(words) == 2:\n",
    "        kept.append(kw)\n",
    "kept"
   ]
  },
  {
   "cell_type": "markdown",
   "metadata": {},
   "source": [
    "## Faire la même opération sur tous les documents"
   ]
  },
  {
   "cell_type": "code",
   "execution_count": 25,
   "metadata": {},
   "outputs": [
    {
     "name": "stdout",
     "output_type": "stream",
     "text": [
      "KB_JB838_1960-01-10_01-00018.txt mentions these keywords: Agence Rossel, l’Agence Rossel, Ecrire Agence, Faire offre, Rossel num, IMPORTANTE SOCIETE, Importante firme, BRUXELLES CHERCHE, Importante société, Firme Importante, curriculum vitae, offre manuscrite, vltae Agence...\n",
      "KB_JB838_1960-01-12_01-00011.txt mentions these keywords: Van den, Van der, classements officiels, Coq Anglais, Van Houtte, Country Club, Léopold Club, Van Blesebroeck, Astrld Club, Van Belle, Baudouin Club...\n",
      "KB_JB838_1960-01-13_01-00009.txt mentions these keywords: VAN LOOY, Van Stcenbergen, Rik Van, DIVISION III, Fort Jaco, Grand Prix, grand temps, Dimanche division, dimanche dernier...\n",
      "KB_JB838_1960-01-21_01-00014.txt mentions these keywords: chemise lavée, CHEMISES LAVÉES, Office Propriétaires, Propriétaires Tél, WATERLOO TéL, maison rapport, belle maison, PRIX TARIF, francs Office, bonne maison...\n",
      "KB_JB838_1960-01-22_01-00015.txt mentions these keywords: LOUER App, Pastilles Antibiotiques, FER FORGE, spac. app, Pet. app...\n",
      "KB_JB838_1960-01-27_01-00006.txt mentions these keywords: Commerce extérieur, Haute Autorité, Marché commun, politique scientifique, Commission scientifique, recherche scientifique, Conseil national...\n",
      "KB_JB838_1960-01-28_01-00011.txt mentions these keywords: tient natl, male cho, isent ntàe, prèa date, date ture, ntàe dual, SUPPLÉMENT PARAISSANT, sap anb, Bjua sap, Bagoa sap, Bap oun, sauiuioq sap, jx’ÎV'S Ocsr, Banapioa xnu, xnofjq sap, uaiq anb...\n",
      "KB_JB838_1960-01-28_01-00021.txt mentions these keywords: AVANTAGEUX CREDIT, Prince Héritier, voitures FIAT, ACHETE voitures, rue Hccknrs, bon état, rue I.inthout, offre Hcccpt., PRIX AVANTAGEUX, DIRECTION FIAT, MAIL Tél, CHAUFFEUR Voiture, tte offre...\n",
      "KB_JB838_1960-01-30_01-00007.txt mentions these keywords: JAPON ÉCLATE, Japon n’est, METAL ARGENTÉ, Japon moderne, Maison Wolfers, l’usine Japon, Grandes Editions, Etablissements Braconnier, Etablissements Louis, Jacques Danois, Jacques Courtois, bas salaires...\n",
      "KB_JB838_1960-01-31_01-00024.txt mentions these keywords: rayons lumineux, VOITURE Tél, Huiles YACCO, voiture VOLVO, d’une voiture, prix Tél...\n"
     ]
    }
   ],
   "source": [
    "for f in sorted(files)[:10]:\n",
    "    text = open(os.path.join(data_path, f), 'r', encoding=\"utf-8\").read()\n",
    "    keywords = kw_extractor.extract_keywords(text)\n",
    "    kept = []\n",
    "    for kw, score in keywords:\n",
    "        words = kw.split()\n",
    "        if len(words) == 2:\n",
    "            kept.append(kw)\n",
    "    print(f\"{f} mentions these keywords: {', '.join(kept)}...\")"
   ]
  }
 ],
 "metadata": {
  "kernelspec": {
   "display_name": "Python 3.10.5 ('tac_venv': venv)",
   "language": "python",
   "name": "python3"
  },
  "language_info": {
   "codemirror_mode": {
    "name": "ipython",
    "version": 3
   },
   "file_extension": ".py",
   "mimetype": "text/x-python",
   "name": "python",
   "nbconvert_exporter": "python",
   "pygments_lexer": "ipython3",
   "version": "3.11.6"
  },
  "vscode": {
   "interpreter": {
    "hash": "b1932ab1d169b4769d1550e799423b6477588e745f266d79d9004c136c81607e"
   }
  }
 },
 "nbformat": 4,
 "nbformat_minor": 4
}
