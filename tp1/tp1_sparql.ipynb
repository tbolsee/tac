{
 "cells": [
  {
   "cell_type": "markdown",
   "metadata": {},
   "source": [
    "En tant que chercheur en journalisme, mon objectif de recherche est d'explorer les attitudes et les représentations de l'athlétisme féminin dans la presse belge dans la décennie 1920. Pour mener à bien cette recherche, j'aimerais utiliser le moteur de recherche CAMille, en cherchant des occurrences d'athlètes femmes dans les documents de cette décennie-là.\n",
    "\n",
    "Cependant, avant de pouvoir effectuer des recherches dans CAMille, je dois obtenir des noms de femmes athlètes (pas uniquement belges). Ces noms me serviront à rechercher les occurrences de ces athlètes dans la base de données CAMille. Pour obtenir ces noms, je vais effectuer une requête SPARQL sur Wikidata.\n",
    "\n",
    "Afin de réduire le nombre de résultats, j'excluerai les athlètes nées après 1915 (qui auraient moins de 14 ans ans en 1929). En revanche, je ne veux pas exclure les athlètes du passé car mêmes si elles sont inactives ou décédées en 1920, elles demeurent concernées par ma question de recherche."
   ]
  },
  {
   "cell_type": "code",
   "execution_count": 4,
   "metadata": {},
   "outputs": [],
   "source": [
    "from datetime import datetime as dt\n",
    "from SPARQLWrapper import SPARQLWrapper, JSON\n",
    "\n",
    "endpoint = \"https://query.wikidata.org/bigdata/namespace/wdq/sparql\"\n",
    "sparql = SPARQLWrapper(endpoint)\n"
   ]
  },
  {
   "cell_type": "code",
   "execution_count": 8,
   "metadata": {},
   "outputs": [
    {
     "name": "stdout",
     "output_type": "stream",
     "text": [
      "\n",
      "139 female athletes found\n",
      "\n",
      "[{'person': {'type': 'uri', 'value': 'http://www.wikidata.org/entity/Q101113133'}, 'personLabel': {'type': 'literal', 'value': 'Q101113133'}, 'dateBirth': {'datatype': 'http://www.w3.org/2001/XMLSchema#dateTime', 'type': 'literal', 'value': '1913-05-04T00:00:00Z'}}, {'person': {'type': 'uri', 'value': 'http://www.wikidata.org/entity/Q101245565'}, 'personLabel': {'type': 'literal', 'value': 'Q101245565'}, 'dateBirth': {'datatype': 'http://www.w3.org/2001/XMLSchema#dateTime', 'type': 'literal', 'value': '1907-09-23T00:00:00Z'}}, {'person': {'type': 'uri', 'value': 'http://www.wikidata.org/entity/Q101422080'}, 'personLabel': {'type': 'literal', 'value': 'Q101422080'}, 'dateBirth': {'datatype': 'http://www.w3.org/2001/XMLSchema#dateTime', 'type': 'literal', 'value': '1872-09-06T00:00:00Z'}}, {'person': {'type': 'uri', 'value': 'http://www.wikidata.org/entity/Q102420364'}, 'personLabel': {'type': 'literal', 'value': 'Q102420364'}, 'dateBirth': {'datatype': 'http://www.w3.org/2001/XMLSchema#dateTime', 'type': 'literal', 'value': '1882-08-20T00:00:00Z'}}, {'person': {'type': 'uri', 'value': 'http://www.wikidata.org/entity/Q106376833'}, 'personLabel': {'type': 'literal', 'value': 'Q106376833'}, 'dateBirth': {'datatype': 'http://www.w3.org/2001/XMLSchema#dateTime', 'type': 'literal', 'value': '1848-05-02T00:00:00Z'}}, {'person': {'type': 'uri', 'value': 'http://www.wikidata.org/entity/Q109090932'}, 'personLabel': {'type': 'literal', 'value': 'Q109090932'}, 'dateBirth': {'datatype': 'http://www.w3.org/2001/XMLSchema#dateTime', 'type': 'literal', 'value': '1913-07-24T00:00:00Z'}}, {'person': {'type': 'uri', 'value': 'http://www.wikidata.org/entity/Q110400906'}, 'personLabel': {'type': 'literal', 'value': 'Q110400906'}, 'dateBirth': {'datatype': 'http://www.w3.org/2001/XMLSchema#dateTime', 'type': 'literal', 'value': '1910-06-30T00:00:00Z'}}, {'person': {'type': 'uri', 'value': 'http://www.wikidata.org/entity/Q110620157'}, 'personLabel': {'type': 'literal', 'value': 'Q110620157'}, 'dateBirth': {'datatype': 'http://www.w3.org/2001/XMLSchema#dateTime', 'type': 'literal', 'value': '1910-01-01T00:00:00Z'}}, {'person': {'type': 'uri', 'value': 'http://www.wikidata.org/entity/Q110954276'}, 'personLabel': {'type': 'literal', 'value': 'Q110954276'}, 'dateBirth': {'datatype': 'http://www.w3.org/2001/XMLSchema#dateTime', 'type': 'literal', 'value': '1906-06-13T00:00:00Z'}}, {'person': {'type': 'uri', 'value': 'http://www.wikidata.org/entity/Q111232904'}, 'personLabel': {'type': 'literal', 'value': 'Q111232904'}, 'dateBirth': {'datatype': 'http://www.w3.org/2001/XMLSchema#dateTime', 'type': 'literal', 'value': '1910-05-21T00:00:00Z'}}]\n"
     ]
    }
   ],
   "source": [
    "# P106 = Occupation\n",
    "# Q2066131 = Athlete\n",
    "# P21 = Sex or gender\n",
    "# Q6581072 = Female\n",
    "# P569 = date of birth\n",
    "\n",
    "statement = \"\"\"\n",
    "SELECT DISTINCT ?person ?personLabel ?dateBirth ?dateDeath WHERE {\n",
    "    ?person wdt:P106 wd:Q2066131 .\n",
    "    ?person wdt:P21 wd:Q6581072 .\n",
    "    ?person wdt:P569 ?dateBirth .\n",
    "    FILTER(YEAR(?dateBirth) < 1915)    SERVICE wikibase:label { bd:serviceParam wikibase:language \"fr\". }\n",
    "}\n",
    "ORDER BY ?personLabel\n",
    "\"\"\"\n",
    "\n",
    "sparql.setQuery(statement)\n",
    "sparql.setReturnFormat(JSON)\n",
    "results = sparql.query().convert()\n",
    "\n",
    "rows = results['results']['bindings']\n",
    "print(f\"\\n{len(rows)} female athletes found\\n\")\n",
    "print(rows[:10])\n"
   ]
  }
 ],
 "metadata": {
  "kernelspec": {
   "display_name": "tac_venv",
   "language": "python",
   "name": "python3"
  },
  "language_info": {
   "codemirror_mode": {
    "name": "ipython",
    "version": 3
   },
   "file_extension": ".py",
   "mimetype": "text/x-python",
   "name": "python",
   "nbconvert_exporter": "python",
   "pygments_lexer": "ipython3",
   "version": "3.11.6"
  }
 },
 "nbformat": 4,
 "nbformat_minor": 2
}
