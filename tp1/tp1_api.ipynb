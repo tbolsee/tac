{
 "cells": [
  {
   "cell_type": "markdown",
   "metadata": {},
   "source": [
    "Je suis chercheur et j'utilise un corpus de textes de presse comme ressource de base pour mes analyses. Je recherche des occurrences de noms d'entreprises dans mon corpus. J'utilise donc une API d'extraction d'entités nommées et j'applique ensuite un filtre pour ne détecter que les noms d'entreprises. Cela me permet de détecter immédiatement si un article sera utile pour mon analyse ou pas.\n",
    "\n",
    "Voici un exemple simple d'utilisation de l'API avec le filtre."
   ]
  },
  {
   "cell_type": "code",
   "execution_count": 1,
   "metadata": {},
   "outputs": [],
   "source": [
    "import json\n",
    "import requests"
   ]
  },
  {
   "cell_type": "code",
   "execution_count": 19,
   "metadata": {},
   "outputs": [
    {
     "name": "stdout",
     "output_type": "stream",
     "text": [
      "[{'text': 'NASA', 'category': 'Organization', 'offset': 10, 'length': 4, 'confidenceScore': 0.99}, {'text': 'OTAN', 'category': 'Organization', 'offset': 43, 'length': 4, 'confidenceScore': 0.97}]\n"
     ]
    }
   ],
   "source": [
    "text = \"J'aime la NASA et Pascal Obispo mais pas l'OTAN ni Paris\"\n",
    "\n",
    "url = \"https://microsoft-text-analytics1.p.rapidapi.com/entities/recognition/general\"\n",
    "\n",
    "payload = {\n",
    "    \"documents\": [\n",
    "        {\n",
    "            \"id\": \"1\",\n",
    "            \"language\": \"fr\",\n",
    "            \"text\": text\n",
    "        }\n",
    "    ]\n",
    "}\n",
    "headers = {\n",
    "\t\"content-type\": \"application/json\",\n",
    "\t\"X-RapidAPI-Key\": \"3d79ecd1a6msh0a31dd8685974c9p161af8jsn2bac0cbc40c2\",\n",
    "\t\"X-RapidAPI-Host\": \"microsoft-text-analytics1.p.rapidapi.com\"\n",
    "}\n",
    "\n",
    "response = requests.post(url, json=payload, headers=headers)\n",
    "\n",
    "# Filtre pour ne garder que les noms d'entreprises\n",
    "data = response.json()\n",
    "organizations = [entity for entity in data['documents'][0]['entities'] if entity['category'] == 'Organization']\n",
    "\n",
    "print(organizations)"
   ]
  }
 ],
 "metadata": {
  "kernelspec": {
   "display_name": "Python 3",
   "language": "python",
   "name": "python3"
  },
  "language_info": {
   "codemirror_mode": {
    "name": "ipython",
    "version": 3
   },
   "file_extension": ".py",
   "mimetype": "text/x-python",
   "name": "python",
   "nbconvert_exporter": "python",
   "pygments_lexer": "ipython3",
   "version": "3.11.6"
  }
 },
 "nbformat": 4,
 "nbformat_minor": 2
}
