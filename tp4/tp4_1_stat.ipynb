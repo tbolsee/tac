{
 "cells": [
  {
   "cell_type": "markdown",
   "metadata": {},
   "source": [
    "# TP4"
   ]
  },
  {
   "cell_type": "markdown",
   "metadata": {},
   "source": [
    "# Concaténation de tous les fichiers en un gros fichiers texte"
   ]
  },
  {
   "cell_type": "code",
   "execution_count": null,
   "metadata": {},
   "outputs": [],
   "source": [
    "!cat ../tp4/data/data_all/*.txt > ../tp4/data/full.txt\n",
    "!cat ../tp4/data/data_right/*.txt > ../tp4/data/full_right.txt\n",
    "!cat ../tp4/data/data_left/*.txt > ../tp4/data/full_left.txt"
   ]
  },
  {
   "cell_type": "markdown",
   "metadata": {},
   "source": [
    "## Imports"
   ]
  },
  {
   "cell_type": "code",
   "execution_count": null,
   "metadata": {},
   "outputs": [],
   "source": [
    "import re\n",
    "import os\n",
    "from collections import defaultdict\n",
    "import matplotlib.pyplot as plt\n",
    "import numpy as np"
   ]
  },
  {
   "cell_type": "markdown",
   "metadata": {},
   "source": [
    "## Graphique de la distribution du corpus complet"
   ]
  },
  {
   "cell_type": "markdown",
   "metadata": {},
   "source": [
    "Représentation du nombre de documents par année"
   ]
  },
  {
   "cell_type": "code",
   "execution_count": null,
   "metadata": {},
   "outputs": [],
   "source": [
    "# Chemin du répertoire contenant vos fichiers\n",
    "repertoire = 'data/data_all'\n",
    "\n",
    "# Dictionnaire pour stocker le compte des documents par année\n",
    "documents_par_annee = defaultdict(int)\n",
    "\n",
    "# Expression régulière pour trouver l'année dans le nom de fichier\n",
    "pattern = r'_(\\d{4})-'\n",
    "\n",
    "# Parcourir tous les fichiers dans le répertoire\n",
    "for nom_fichier in os.listdir(repertoire):\n",
    "    chemin_fichier = os.path.join(repertoire, nom_fichier)\n",
    "    if os.path.isfile(chemin_fichier):\n",
    "        # Chercher l'année dans le nom de fichier\n",
    "        match = re.search(pattern, nom_fichier)\n",
    "        if match:\n",
    "            annee = match.group(1)\n",
    "            documents_par_annee[annee] += 1\n",
    "\n",
    "# Trouver l'année minimum et maximum dans les données\n",
    "annee_min = min(map(int, documents_par_annee.keys()))\n",
    "annee_max = max(map(int, documents_par_annee.keys()))\n",
    "\n",
    "# Créer une liste de toutes les années entre annee_min et annee_max\n",
    "annees_complete = [str(annee) for annee in range(annee_min, annee_max + 1)]\n",
    "\n",
    "# Remplir les années manquantes avec zéro pour les documents non présents\n",
    "nombre_documents = [documents_par_annee.get(annee, 0) for annee in annees_complete]\n",
    "\n",
    "# Créer le graphique\n",
    "plt.figure(figsize=(10, 6))\n",
    "plt.bar(annees_complete, nombre_documents, color='skyblue')\n",
    "plt.ylabel('Nombre de documents')\n",
    "plt.title(\"Figure 1. Distribution du corpus dans le temps\")\n",
    "plt.xticks(rotation=60, fontsize=8)\n",
    "plt.tight_layout()\n",
    "\n",
    "# Afficher le graphique\n",
    "plt.show()\n"
   ]
  },
  {
   "cell_type": "markdown",
   "metadata": {},
   "source": [
    "## Graphique de la distribution des sous-corpus"
   ]
  },
  {
   "cell_type": "markdown",
   "metadata": {},
   "source": [
    "Pour chaque famille de journaux (droite ou gauche), représentation de la quantité de documents pour chaque année sous forme de proportion du nombre total de documents pour cette famille de journaux."
   ]
  },
  {
   "cell_type": "code",
   "execution_count": null,
   "metadata": {},
   "outputs": [],
   "source": [
    "# Chemins des répertoires contenant vos fichiers\n",
    "repertoire_right = 'data/data_right'\n",
    "repertoire_left = 'data/data_left'\n",
    "\n",
    "# Dictionnaires pour stocker le compte des documents par année pour chaque répertoire\n",
    "documents_par_annee_right = defaultdict(int)\n",
    "documents_par_annee_left = defaultdict(int)\n",
    "\n",
    "# Expression régulière pour trouver l'année dans le nom de fichier\n",
    "pattern = r'_(\\d{4})-'\n",
    "\n",
    "# Fonction pour compter les documents par année dans un répertoire spécifié\n",
    "def compter_documents_par_annee(repertoire, documents_par_annee):\n",
    "    for nom_fichier in os.listdir(repertoire):\n",
    "        chemin_fichier = os.path.join(repertoire, nom_fichier)\n",
    "        if os.path.isfile(chemin_fichier):\n",
    "            # Chercher l'année dans le nom de fichier\n",
    "            match = re.search(pattern, nom_fichier)\n",
    "            if match:\n",
    "                annee = match.group(1)\n",
    "                documents_par_annee[annee] += 1\n",
    "\n",
    "# Compter les documents par année pour chaque répertoire\n",
    "compter_documents_par_annee(repertoire_right, documents_par_annee_right)\n",
    "compter_documents_par_annee(repertoire_left, documents_par_annee_left)\n",
    "\n",
    "# Trouver toutes les années présentes dans les deux répertoires\n",
    "annees_complete = sorted(set(documents_par_annee_right.keys()) | set(documents_par_annee_left.keys()))\n",
    "\n",
    "# Trouver l'année minimum et maximum dans les données\n",
    "annee_min = min(map(int, annees_complete))\n",
    "annee_max = max(map(int, annees_complete))\n",
    "\n",
    "# Créer une liste de toutes les années entre annee_min et annee_max\n",
    "toutes_les_annees = [str(annee) for annee in range(annee_min, annee_max + 1)]\n",
    "\n",
    "# Préparation des données pour le graphique à barres groupées\n",
    "bar_width = 0.35\n",
    "indices = np.arange(len(toutes_les_annees))\n",
    "\n",
    "nombre_documents_right = [documents_par_annee_right.get(annee, 0) for annee in toutes_les_annees]\n",
    "nombre_documents_left = [documents_par_annee_left.get(annee, 0) for annee in toutes_les_annees]\n",
    "\n",
    "# Calcul des totaux pour normalisation\n",
    "total_documents_right = 2228  # Remplacez ceci par le nombre total de documents pour la famille de droite\n",
    "total_documents_left = 1710  # Remplacez ceci par le nombre total de documents pour la famille de gauche\n",
    "\n",
    "# Normalisation des données\n",
    "proportion_documents_right = [count / total_documents_right for count in nombre_documents_right]\n",
    "proportion_documents_left = [count / total_documents_left for count in nombre_documents_left]\n",
    "\n",
    "# Créer le graphique à barres groupées avec proportions normalisées\n",
    "plt.figure(figsize=(15, 8))\n",
    "\n",
    "plt.bar(indices, proportion_documents_right, bar_width, color='blue', label='Proportion de documents de droite')\n",
    "plt.bar(indices + bar_width, proportion_documents_left, bar_width, color='red', label='Proportion de documents de gauche')\n",
    "\n",
    "plt.ylabel('Proportion de documents normalisée (unité non pertinente)')\n",
    "plt.title(\"Figure 2. Distribution du corpus dans le temps en fonction de l'orientation politique\")\n",
    "plt.xticks(indices + bar_width / 2, toutes_les_annees, rotation=60)\n",
    "plt.tick_params(axis='y', which='both', left=False, labelleft=False)  # Retirer les données de l'axe y\n",
    "plt.legend()\n",
    "plt.tight_layout()\n",
    "\n",
    "# Afficher le graphique\n",
    "plt.show()"
   ]
  }
 ],
 "metadata": {
  "kernelspec": {
   "display_name": "Python 3.10.5 ('venv_tac': venv)",
   "language": "python",
   "name": "python3"
  },
  "language_info": {
   "codemirror_mode": {
    "name": "ipython",
    "version": 3
   },
   "file_extension": ".py",
   "mimetype": "text/x-python",
   "name": "python",
   "nbconvert_exporter": "python",
   "pygments_lexer": "ipython3",
   "version": "3.11.6"
  },
  "vscode": {
   "interpreter": {
    "hash": "a942b0119f0c2604d4302f32a2a6e790f63eb4c9b0c297be7a26bd56fa8e02c6"
   }
  }
 },
 "nbformat": 4,
 "nbformat_minor": 4
}
